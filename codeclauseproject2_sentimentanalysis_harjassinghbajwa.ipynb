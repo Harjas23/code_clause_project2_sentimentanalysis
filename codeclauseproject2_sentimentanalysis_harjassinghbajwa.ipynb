{
 "cells": [
  {
   "cell_type": "markdown",
   "id": "14c0d2fa",
   "metadata": {},
   "source": [
    "# CODE CLAUSE PROJECT 2\n",
    "# SENTIMENT ANALYSIS\n",
    "# HARJAS SINGH BAJWA"
   ]
  },
  {
   "cell_type": "code",
   "execution_count": 1,
   "id": "60e7b6cb",
   "metadata": {},
   "outputs": [],
   "source": [
    "from textblob import TextBlob"
   ]
  },
  {
   "cell_type": "code",
   "execution_count": 2,
   "id": "9ee6f7ba",
   "metadata": {},
   "outputs": [],
   "source": [
    "from newspaper import Article"
   ]
  },
  {
   "cell_type": "code",
   "execution_count": 3,
   "id": "d49ba36f",
   "metadata": {},
   "outputs": [],
   "source": [
    "import nltk"
   ]
  },
  {
   "cell_type": "code",
   "execution_count": 4,
   "id": "0d8d8771",
   "metadata": {},
   "outputs": [
    {
     "name": "stderr",
     "output_type": "stream",
     "text": [
      "[nltk_data] Downloading package punkt to\n",
      "[nltk_data]     /Users/harjasbajwa/nltk_data...\n",
      "[nltk_data]   Package punkt is already up-to-date!\n"
     ]
    },
    {
     "data": {
      "text/plain": [
       "True"
      ]
     },
     "execution_count": 4,
     "metadata": {},
     "output_type": "execute_result"
    }
   ],
   "source": [
    "nltk.download('punkt')"
   ]
  },
  {
   "cell_type": "code",
   "execution_count": 5,
   "id": "37a5d2ba",
   "metadata": {},
   "outputs": [],
   "source": [
    "url = 'https://en.wikipedia.org/wiki/Mathematics' "
   ]
  },
  {
   "cell_type": "code",
   "execution_count": 6,
   "id": "b4518f0a",
   "metadata": {},
   "outputs": [],
   "source": [
    "article = Article(url)"
   ]
  },
  {
   "cell_type": "code",
   "execution_count": 7,
   "id": "e04015cb",
   "metadata": {},
   "outputs": [],
   "source": [
    "article.download()"
   ]
  },
  {
   "cell_type": "code",
   "execution_count": 8,
   "id": "46cba60b",
   "metadata": {},
   "outputs": [],
   "source": [
    "article.parse()"
   ]
  },
  {
   "cell_type": "code",
   "execution_count": 9,
   "id": "b4806b08",
   "metadata": {},
   "outputs": [],
   "source": [
    "article.nlp()"
   ]
  },
  {
   "cell_type": "code",
   "execution_count": 10,
   "id": "b76c3a9f",
   "metadata": {},
   "outputs": [],
   "source": [
    "text=article.summary"
   ]
  },
  {
   "cell_type": "code",
   "execution_count": 11,
   "id": "030b5965",
   "metadata": {},
   "outputs": [
    {
     "name": "stdout",
     "output_type": "stream",
     "text": [
      "Although mathematics is extensively used for modeling phenomena, the fundamental truths of mathematics are independent from any scientific experimentation.\n",
      "[109][112] This led to split mathematics into pure mathematics and applied mathematics, the latter being often considered as having a lower value among mathematical purists.\n",
      "[114][115] Many of the theories developed for applications were found interesting from the point of view of pure mathematics, and many results of pure mathematics were shown to have applications outside mathematics; in turn, the study of these applications may give new insights on the \"pure theory\".\n",
      "[121][122] The Mathematics Subject Classification has a section for \"general applied mathematics\" but does not mention \"pure mathematics\".\n",
      "[g][161] Rigorous reasoning is not specific to mathematics, but, in mathematics, the standard of rigor is much higher than elsewhere.\n"
     ]
    }
   ],
   "source": [
    "print(text)"
   ]
  },
  {
   "cell_type": "code",
   "execution_count": 12,
   "id": "a32fe13a",
   "metadata": {},
   "outputs": [],
   "source": [
    "blob = TextBlob(text)"
   ]
  },
  {
   "cell_type": "code",
   "execution_count": 13,
   "id": "b3874f52",
   "metadata": {},
   "outputs": [],
   "source": [
    "sentiment = blob.sentiment.polarity# -1 to 1 "
   ]
  },
  {
   "cell_type": "code",
   "execution_count": 14,
   "id": "d08648d5",
   "metadata": {},
   "outputs": [
    {
     "name": "stdout",
     "output_type": "stream",
     "text": [
      "0.14705627705627705\n"
     ]
    }
   ],
   "source": [
    "print(sentiment) #sentiment for a article on wikipedia"
   ]
  },
  {
   "cell_type": "code",
   "execution_count": 15,
   "id": "10d5a13b",
   "metadata": {},
   "outputs": [],
   "source": [
    "negative_text = \"osama bin laden blew up twin tower on 9/11 resulting in over thousands of people dead\""
   ]
  },
  {
   "cell_type": "code",
   "execution_count": 16,
   "id": "b01dfece",
   "metadata": {},
   "outputs": [],
   "source": [
    "neg_sentiment=TextBlob(negative_text)"
   ]
  },
  {
   "cell_type": "code",
   "execution_count": 17,
   "id": "07b4a92c",
   "metadata": {},
   "outputs": [
    {
     "name": "stdout",
     "output_type": "stream",
     "text": [
      "-0.2\n"
     ]
    }
   ],
   "source": [
    "print(neg_sentiment.sentiment.polarity) #sentiment for negative text"
   ]
  },
  {
   "cell_type": "code",
   "execution_count": 18,
   "id": "c1737d26",
   "metadata": {},
   "outputs": [],
   "source": [
    "positive_text = \"people happy on enviornment day as mother hearth is now healed\""
   ]
  },
  {
   "cell_type": "code",
   "execution_count": 19,
   "id": "7c97d0e3",
   "metadata": {},
   "outputs": [],
   "source": [
    "positive_sentiment=TextBlob(positive_text)"
   ]
  },
  {
   "cell_type": "code",
   "execution_count": 20,
   "id": "983d7563",
   "metadata": {},
   "outputs": [
    {
     "name": "stdout",
     "output_type": "stream",
     "text": [
      "0.8\n"
     ]
    }
   ],
   "source": [
    "print(positive_sentiment.sentiment.polarity) #sentiment for positive text"
   ]
  },
  {
   "cell_type": "code",
   "execution_count": null,
   "id": "38b7ba38",
   "metadata": {},
   "outputs": [],
   "source": []
  }
 ],
 "metadata": {
  "kernelspec": {
   "display_name": "Python 3 (ipykernel)",
   "language": "python",
   "name": "python3"
  },
  "language_info": {
   "codemirror_mode": {
    "name": "ipython",
    "version": 3
   },
   "file_extension": ".py",
   "mimetype": "text/x-python",
   "name": "python",
   "nbconvert_exporter": "python",
   "pygments_lexer": "ipython3",
   "version": "3.10.9"
  }
 },
 "nbformat": 4,
 "nbformat_minor": 5
}
